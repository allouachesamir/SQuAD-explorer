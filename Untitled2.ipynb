{
  "nbformat": 4,
  "nbformat_minor": 0,
  "metadata": {
    "colab": {
      "name": "Untitled2.ipynb",
      "version": "0.3.2",
      "provenance": [],
      "private_outputs": true,
      "collapsed_sections": [],
      "include_colab_link": true
    },
    "kernelspec": {
      "name": "python3",
      "display_name": "Python 3"
    },
    "accelerator": "TPU"
  },
  "cells": [
    {
      "cell_type": "markdown",
      "metadata": {
        "id": "view-in-github",
        "colab_type": "text"
      },
      "source": [
        "<a href=\"https://colab.research.google.com/github/allouachesamir/SQuAD-explorer/blob/master/Untitled2.ipynb\" target=\"_parent\"><img src=\"https://colab.research.google.com/assets/colab-badge.svg\" alt=\"Open In Colab\"/></a>"
      ]
    },
    {
      "cell_type": "code",
      "metadata": {
        "id": "m-IBv93fw9ji",
        "colab_type": "code",
        "colab": {}
      },
      "source": [
        "!mkdir bert_repo\n",
        "!rm -rf bert_output\n",
        "!mkdir bert_output\n",
        "!mkdir data\n",
        "!mkdir multi_cased_L-12_H-768_A-12\n"
      ],
      "execution_count": 0,
      "outputs": []
    },
    {
      "cell_type": "code",
      "metadata": {
        "id": "SHx3Fo0kxGu0",
        "colab_type": "code",
        "colab": {}
      },
      "source": [
        "folder = 'multi_cased_L-12_H-768_A-12'\n",
        "download_url = 'https://storage.googleapis.com/bert_models/2018_11_23/multi_cased_L-12_H-768_A-12.zip'  # ?????? ?? ?????????? ??????\n",
        "!wget $download_url\n",
        "zip_path = '{}.zip'.format(folder)\n",
        "!unzip $zip_path\n",
        "\n",
        "##!test -d $folder || (wget $download_url && unzip $zip_path)"
      ],
      "execution_count": 0,
      "outputs": []
    },
    {
      "cell_type": "code",
      "metadata": {
        "id": "fj-WNYxaxnqg",
        "colab_type": "code",
        "colab": {}
      },
      "source": [
        "!python ./bert_repo/run_squad.py  --vocab_file=multi_cased_L-12_H-768_A-12/vocab.txt  --bert_config_file=multi_cased_L-12_H-768_A-12/bert_config.json  --init_checkpoint=multi_cased_L-12_H-768_A-12/bert_model.ckpt  --do_train=True --train_file=data/train-v1.1.json --do_predict=True --predict_file=data/dev-v1.1.json --train_batch_size=12 --learning_rate=3e-5 --num_train_epochs=2.0  --max_seq_length=384  --doc_stride=128  --output_dir=bert_output/   --do_lower_case=False  --use_tpu=True "
      ],
      "execution_count": 0,
      "outputs": []
    },
    {
      "cell_type": "code",
      "metadata": {
        "id": "RAXhk2BCU22Z",
        "colab_type": "code",
        "colab": {}
      },
      "source": [
        ""
      ],
      "execution_count": 0,
      "outputs": []
    }
  ]
}